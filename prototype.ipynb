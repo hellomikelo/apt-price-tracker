{
 "cells": [
  {
   "cell_type": "code",
   "execution_count": 19,
   "metadata": {},
   "outputs": [
    {
     "name": "stdout",
     "output_type": "stream",
     "text": [
      "Overwriting fetch_data.py\n"
     ]
    }
   ],
   "source": [
    "%%writefile fetch_data.py\n",
    "from selenium import webdriver\n",
    "from selenium.webdriver.support.wait import WebDriverWait\n",
    "from selenium.webdriver.support import expected_conditions as EC\n",
    "from selenium.webdriver.common.by import By\n",
    "from webdriver_manager.chrome import ChromeDriverManager\n",
    "import os\n",
    "import re\n",
    "import json\n",
    "import selenium\n",
    "\n",
    "# Initialize Chrome Selenium\n",
    "options = webdriver.ChromeOptions()\n",
    "options.add_argument('--no-sandbox')\n",
    "options.add_argument('--headless')\n",
    "options.add_argument('--ignore-certificate-errors')\n",
    "options.add_argument('--disable-dev-shm-usage')\n",
    "options.add_argument('--disable-extensions')\n",
    "options.add_argument('--disable-gpu')\n",
    "# user_agent = 'Mozilla/5.0 (X11; Linux x86_64) AppleWebKit/537.36 (KHTML, like Gecko) Chrome/60.0.3112.50 Safari/537.36'\n",
    "user_agent = 'Mozilla/5.0 (Macintosh; Intel Mac OS X 10_15_7) AppleWebKit/537.36 (KHTML, like Gecko) Chrome/120.0.0.0 Safari/537'\n",
    "options.add_argument('user-agent={0}'.format(user_agent))\n",
    "\n",
    "driver = webdriver.Chrome(options=options) \n",
    "# driver = webdriver.Chrome(executable_path=ChromeDriverManager().install(), options=options) \n",
    "# driver.implicitly_wait(90)\n",
    "driver.set_page_load_timeout(90)\n",
    "\n",
    "# Load the URL and get the page source\n",
    "URL = 'https://liveat678bellflower.com/floor-plans.aspx'\n",
    "driver.get(URL)\n",
    "\n",
    "results_container = WebDriverWait(driver, 100).until(\n",
    "    EC.presence_of_element_located((By.ID, 'par_10617247'))\n",
    ")\n",
    "\n",
    "assert type(results_container) == selenium.webdriver.remote.webelement.WebElement, \"results_container is a wrong type! Please check.\"\n",
    "\n",
    "sections = results_container.find_elements(By.CLASS_NAME, \"unit-container\")\n",
    "\n",
    "# Find elements\n",
    "res = []\n",
    "for idx, section in enumerate(sections):\n",
    "    unit_type_str = section.find_element(By.XPATH, '//*[@id=\"text-area\"]/div/div[1]/h2').get_attribute(\"innerHTML\").strip()\n",
    "    unit_price_str = section.find_element(By.CLASS_NAME, \"unit-rent\").get_attribute(\"innerHTML\")\n",
    "    unit_number_str = section.find_element(By.CLASS_NAME, \"unit-number\").get_attribute(\"innerHTML\")\n",
    "    unit_sqft_str = section.find_element(By.CLASS_NAME, \"unit-sqft\").get_attribute(\"innerHTML\")\n",
    "\n",
    "    unit_sqft = int(re.findall(r'\\d+', unit_sqft_str.replace(',', ''))[0])\n",
    "    unit_number = int(re.findall(r'\\d+', unit_number_str)[0])\n",
    "    unit_price = unit_price_str.replace('$', '').replace(',', '')\n",
    "    unit_price = int(unit_price[-4:])\n",
    "    \n",
    "    assert unit_type_str == 'The Preserve', 'Wrong unit type! Please check.'\n",
    "    \n",
    "    _res = {\"unit_number\": unit_number,\n",
    "            \"unit_price\": unit_price,\n",
    "            \"unit_sqft\": unit_sqft\n",
    "            }\n",
    "    \n",
    "    res.append(_res)\n",
    "\n",
    "assert len(res) != 0, \"Result list is empty! Please check.\"\n",
    "\n",
    "res2 = sorted(res, key=lambda x: (x['unit_price'], x['unit_number']))\n",
    "\n",
    "# Write out results\n",
    "with open(\"unit_prices.json\", \"w\") as f:\n",
    "    # Dump the list to the file\n",
    "    json.dump(res2, f)\n"
   ]
  },
  {
   "cell_type": "markdown",
   "metadata": {},
   "source": [
    "## Bellflower apartment price scraper"
   ]
  },
  {
   "cell_type": "code",
   "execution_count": 13,
   "metadata": {},
   "outputs": [],
   "source": [
    "from selenium import webdriver\n",
    "from selenium.webdriver.support.wait import WebDriverWait\n",
    "from selenium.webdriver.support import expected_conditions as EC\n",
    "from selenium.webdriver.common.by import By\n",
    "from webdriver_manager.chrome import ChromeDriverManager\n",
    "import os\n",
    "import re\n",
    "import json\n",
    "\n",
    "# Initialize Chrome Selenium\n",
    "options = webdriver.ChromeOptions()\n",
    "options.add_argument('--no-sandbox')\n",
    "options.add_argument('--headless')\n",
    "options.add_argument('--ignore-certificate-errors')\n",
    "options.add_argument('--disable-dev-shm-usage')\n",
    "options.add_argument('--disable-extensions')\n",
    "options.add_argument('--disable-gpu')\n",
    "# user_agent = 'Mozilla/5.0 (X11; Linux x86_64) AppleWebKit/537.36 (KHTML, like Gecko) Chrome/60.0.3112.50 Safari/537.36'\n",
    "user_agent = 'Mozilla/5.0 (Macintosh; Intel Mac OS X 10_15_7) AppleWebKit/537.36 (KHTML, like Gecko) Chrome/120.0.0.0 Safari/537'\n",
    "options.add_argument('user-agent={0}'.format(user_agent))\n",
    "\n",
    "driver = webdriver.Chrome(options=options) \n",
    "# driver = webdriver.Chrome(executable_path=ChromeDriverManager().install(), options=options) \n",
    "# driver.set_page_load_timeout(90)\n",
    "driver.implicitly_wait(90)"
   ]
  },
  {
   "cell_type": "code",
   "execution_count": 14,
   "metadata": {},
   "outputs": [],
   "source": [
    "URL = 'https://liveat678bellflower.com/floor-plans.aspx'\n",
    "\n",
    "# Load the URL and get the page source\n",
    "driver.get(URL)\n",
    "\n"
   ]
  },
  {
   "cell_type": "code",
   "execution_count": 15,
   "metadata": {},
   "outputs": [],
   "source": [
    "results_container = WebDriverWait(driver, 100).until(\n",
    "    # EC.presence_of_element_located((By.CLASS_NAME, \"par-units\"))\n",
    "    EC.presence_of_element_located((By.ID, 'par_10617247'))\n",
    ")\n",
    "\n",
    "sections = results_container.find_elements(By.CLASS_NAME, \"unit-container\")"
   ]
  },
  {
   "cell_type": "code",
   "execution_count": 39,
   "metadata": {},
   "outputs": [
    {
     "data": {
      "text/plain": [
       "'12'"
      ]
     },
     "execution_count": 39,
     "metadata": {},
     "output_type": "execute_result"
    }
   ],
   "source": [
    "# section.find_element(By.CSS_SELECTOR, \"div.unit-container-left > div:nth-child(3)\").get_attribute(\"innerHTML\")\n",
    "section.find_element(By.CSS_SELECTOR, \"div.unit-container-left > div:nth-child(4)\").get_attribute(\"innerHTML\").replace('Lease Term: ', '')"
   ]
  },
  {
   "cell_type": "code",
   "execution_count": 43,
   "metadata": {},
   "outputs": [
    {
     "data": {
      "text/plain": [
       "'03/20/2024'"
      ]
     },
     "execution_count": 43,
     "metadata": {},
     "output_type": "execute_result"
    }
   ],
   "source": [
    "s = 'Available: 03/20/2024'\n",
    "# s = 'NOW'\n",
    "re.findall(r'(\\d{2}/\\d{2}/\\d{4}|NOW)', s)[0]"
   ]
  },
  {
   "cell_type": "code",
   "execution_count": 37,
   "metadata": {},
   "outputs": [
    {
     "data": {
      "text/plain": [
       "[{'unit_number': 2,\n",
       "  'unit_price': 3403,\n",
       "  'unit_sqft': 1076,\n",
       "  'available_date': '04/06/2024'},\n",
       " {'unit_number': 58,\n",
       "  'unit_price': 3403,\n",
       "  'unit_sqft': 1076,\n",
       "  'available_date': '04/06/2024'},\n",
       " {'unit_number': 88,\n",
       "  'unit_price': 3419,\n",
       "  'unit_sqft': 1076,\n",
       "  'available_date': '04/06/2024'},\n",
       " {'unit_number': 91,\n",
       "  'unit_price': 3529,\n",
       "  'unit_sqft': 1076,\n",
       "  'available_date': '04/06/2024'}]"
      ]
     },
     "execution_count": 37,
     "metadata": {},
     "output_type": "execute_result"
    }
   ],
   "source": [
    "# Find elements\n",
    "res = []\n",
    "for idx, section in enumerate(sections):\n",
    "    unit_type_str = section.find_element(By.XPATH, '//*[@id=\"text-area\"]/div/div[1]/h2').get_attribute(\"innerHTML\").strip()\n",
    "    unit_price_str = section.find_element(By.CLASS_NAME, \"unit-rent\").get_attribute(\"innerHTML\")\n",
    "    unit_number_str = section.find_element(By.CLASS_NAME, \"unit-number\").get_attribute(\"innerHTML\")\n",
    "    unit_sqft_str = section.find_element(By.CLASS_NAME, \"unit-sqft\").get_attribute(\"innerHTML\")\n",
    "    available_date_str = section.find_element(By.CSS_SELECTOR, \"div.unit-container-left > div:nth-child(3)\").get_attribute(\"innerHTML\")\n",
    "    lease_term_str = section.find_element(By.CSS_SELECTOR, \"div.unit-container-left > div:nth-child(4)\").get_attribute(\"innerHTML\")\n",
    "\n",
    "    unit_sqft = int(re.findall(r'\\d+', unit_sqft_str.replace(',', ''))[0])\n",
    "    unit_number = int(re.findall(r'\\d+', unit_number_str)[0])\n",
    "    unit_price = unit_price_str.replace('$', '').replace(',', '')\n",
    "    unit_price = int(unit_price[-4:])\n",
    "    available_date = re.findall(r'\\d{2}/\\d{2}/\\d{4}', 'Available: 04/06/2024')[0]\n",
    "    lease_term = int(lease_term_str.replace('Lease Term: ', ''))\n",
    "    \n",
    "    assert unit_type_str == 'The Preserve', 'Wrong unit type! Please check.'\n",
    "    \n",
    "    _res = {\"unit_number\": unit_number,\n",
    "            \"unit_price\": unit_price,\n",
    "            \"unit_sqft\": unit_sqft,\n",
    "            \"available_date\": available_date,\n",
    "            \"lease_term\": lease_term\n",
    "            }\n",
    "    \n",
    "    res.append(_res)\n",
    "    # res.append(f\"{unit_type_str} is renting for ${unit_price:,} ({unit_number_str}, {unit_sqft_str})\")\n",
    "    # print(f\"{unit_type_str}: {unit_number_str} is renting for ${unit_price:,} ({unit_sqft_str})\")\n",
    "\n",
    "res2 = sorted(res, key=lambda x: (x['unit_price'], x['unit_number']))\n",
    "res2    "
   ]
  },
  {
   "cell_type": "code",
   "execution_count": 189,
   "metadata": {},
   "outputs": [],
   "source": [
    "import json\n",
    "\n",
    "res2\n",
    "\n",
    "with open(\"my_list.json\", \"w\") as f:\n",
    "    # Dump the list to the file\n",
    "    json.dump(res2, f)"
   ]
  },
  {
   "cell_type": "markdown",
   "metadata": {},
   "source": [
    "## Discord bot"
   ]
  },
  {
   "cell_type": "code",
   "execution_count": 4,
   "metadata": {},
   "outputs": [
    {
     "data": {
      "text/plain": [
       "'snapshot_prices.json'"
      ]
     },
     "execution_count": 4,
     "metadata": {},
     "output_type": "execute_result"
    }
   ],
   "source": [
    "import shutil\n",
    "shutil.copyfile('latest_prices.json', 'snapshot_prices.json')"
   ]
  },
  {
   "cell_type": "code",
   "execution_count": 2,
   "metadata": {},
   "outputs": [
    {
     "ename": "RuntimeError",
     "evalue": "Cannot close a running event loop",
     "output_type": "error",
     "traceback": [
      "\u001b[0;31m---------------------------------------------------------------------------\u001b[0m",
      "\u001b[0;31mRuntimeError\u001b[0m                              Traceback (most recent call last)",
      "File \u001b[0;32m~/opt/anaconda3/envs/scrape/lib/python3.10/site-packages/discord/client.py:707\u001b[0m, in \u001b[0;36mClient.run\u001b[0;34m(self, *args, **kwargs)\u001b[0m\n\u001b[1;32m    706\u001b[0m \u001b[38;5;28;01mtry\u001b[39;00m:\n\u001b[0;32m--> 707\u001b[0m     \u001b[43mloop\u001b[49m\u001b[38;5;241;43m.\u001b[39;49m\u001b[43mrun_forever\u001b[49m\u001b[43m(\u001b[49m\u001b[43m)\u001b[49m\n\u001b[1;32m    708\u001b[0m \u001b[38;5;28;01mexcept\u001b[39;00m \u001b[38;5;167;01mKeyboardInterrupt\u001b[39;00m:\n",
      "File \u001b[0;32m~/opt/anaconda3/envs/scrape/lib/python3.10/asyncio/base_events.py:592\u001b[0m, in \u001b[0;36mBaseEventLoop.run_forever\u001b[0;34m(self)\u001b[0m\n\u001b[1;32m    591\u001b[0m \u001b[38;5;28mself\u001b[39m\u001b[38;5;241m.\u001b[39m_check_closed()\n\u001b[0;32m--> 592\u001b[0m \u001b[38;5;28;43mself\u001b[39;49m\u001b[38;5;241;43m.\u001b[39;49m\u001b[43m_check_running\u001b[49m\u001b[43m(\u001b[49m\u001b[43m)\u001b[49m\n\u001b[1;32m    593\u001b[0m \u001b[38;5;28mself\u001b[39m\u001b[38;5;241m.\u001b[39m_set_coroutine_origin_tracking(\u001b[38;5;28mself\u001b[39m\u001b[38;5;241m.\u001b[39m_debug)\n",
      "File \u001b[0;32m~/opt/anaconda3/envs/scrape/lib/python3.10/asyncio/base_events.py:584\u001b[0m, in \u001b[0;36mBaseEventLoop._check_running\u001b[0;34m(self)\u001b[0m\n\u001b[1;32m    583\u001b[0m \u001b[38;5;28;01mif\u001b[39;00m \u001b[38;5;28mself\u001b[39m\u001b[38;5;241m.\u001b[39mis_running():\n\u001b[0;32m--> 584\u001b[0m     \u001b[38;5;28;01mraise\u001b[39;00m \u001b[38;5;167;01mRuntimeError\u001b[39;00m(\u001b[38;5;124m'\u001b[39m\u001b[38;5;124mThis event loop is already running\u001b[39m\u001b[38;5;124m'\u001b[39m)\n\u001b[1;32m    585\u001b[0m \u001b[38;5;28;01mif\u001b[39;00m events\u001b[38;5;241m.\u001b[39m_get_running_loop() \u001b[38;5;129;01mis\u001b[39;00m \u001b[38;5;129;01mnot\u001b[39;00m \u001b[38;5;28;01mNone\u001b[39;00m:\n",
      "\u001b[0;31mRuntimeError\u001b[0m: This event loop is already running",
      "\nDuring handling of the above exception, another exception occurred:\n",
      "\u001b[0;31mRuntimeError\u001b[0m                              Traceback (most recent call last)",
      "File \u001b[0;32m~/opt/anaconda3/envs/scrape/lib/python3.10/site-packages/discord/client.py:109\u001b[0m, in \u001b[0;36m_cleanup_loop\u001b[0;34m(loop)\u001b[0m\n\u001b[1;32m    108\u001b[0m \u001b[38;5;28;01mtry\u001b[39;00m:\n\u001b[0;32m--> 109\u001b[0m     \u001b[43m_cancel_tasks\u001b[49m\u001b[43m(\u001b[49m\u001b[43mloop\u001b[49m\u001b[43m)\u001b[49m\n\u001b[1;32m    110\u001b[0m     loop\u001b[38;5;241m.\u001b[39mrun_until_complete(loop\u001b[38;5;241m.\u001b[39mshutdown_asyncgens())\n",
      "File \u001b[0;32m~/opt/anaconda3/envs/scrape/lib/python3.10/site-packages/discord/client.py:91\u001b[0m, in \u001b[0;36m_cancel_tasks\u001b[0;34m(loop)\u001b[0m\n\u001b[1;32m     89\u001b[0m     task\u001b[38;5;241m.\u001b[39mcancel()\n\u001b[0;32m---> 91\u001b[0m \u001b[43mloop\u001b[49m\u001b[38;5;241;43m.\u001b[39;49m\u001b[43mrun_until_complete\u001b[49m\u001b[43m(\u001b[49m\u001b[43masyncio\u001b[49m\u001b[38;5;241;43m.\u001b[39;49m\u001b[43mgather\u001b[49m\u001b[43m(\u001b[49m\u001b[38;5;241;43m*\u001b[39;49m\u001b[43mtasks\u001b[49m\u001b[43m,\u001b[49m\u001b[43m \u001b[49m\u001b[43mreturn_exceptions\u001b[49m\u001b[38;5;241;43m=\u001b[39;49m\u001b[38;5;28;43;01mTrue\u001b[39;49;00m\u001b[43m)\u001b[49m\u001b[43m)\u001b[49m\n\u001b[1;32m     92\u001b[0m _log\u001b[38;5;241m.\u001b[39minfo(\u001b[38;5;124m\"\u001b[39m\u001b[38;5;124mAll tasks finished cancelling.\u001b[39m\u001b[38;5;124m\"\u001b[39m)\n",
      "File \u001b[0;32m~/opt/anaconda3/envs/scrape/lib/python3.10/asyncio/base_events.py:625\u001b[0m, in \u001b[0;36mBaseEventLoop.run_until_complete\u001b[0;34m(self, future)\u001b[0m\n\u001b[1;32m    624\u001b[0m \u001b[38;5;28mself\u001b[39m\u001b[38;5;241m.\u001b[39m_check_closed()\n\u001b[0;32m--> 625\u001b[0m \u001b[38;5;28;43mself\u001b[39;49m\u001b[38;5;241;43m.\u001b[39;49m\u001b[43m_check_running\u001b[49m\u001b[43m(\u001b[49m\u001b[43m)\u001b[49m\n\u001b[1;32m    627\u001b[0m new_task \u001b[38;5;241m=\u001b[39m \u001b[38;5;129;01mnot\u001b[39;00m futures\u001b[38;5;241m.\u001b[39misfuture(future)\n",
      "File \u001b[0;32m~/opt/anaconda3/envs/scrape/lib/python3.10/asyncio/base_events.py:584\u001b[0m, in \u001b[0;36mBaseEventLoop._check_running\u001b[0;34m(self)\u001b[0m\n\u001b[1;32m    583\u001b[0m \u001b[38;5;28;01mif\u001b[39;00m \u001b[38;5;28mself\u001b[39m\u001b[38;5;241m.\u001b[39mis_running():\n\u001b[0;32m--> 584\u001b[0m     \u001b[38;5;28;01mraise\u001b[39;00m \u001b[38;5;167;01mRuntimeError\u001b[39;00m(\u001b[38;5;124m'\u001b[39m\u001b[38;5;124mThis event loop is already running\u001b[39m\u001b[38;5;124m'\u001b[39m)\n\u001b[1;32m    585\u001b[0m \u001b[38;5;28;01mif\u001b[39;00m events\u001b[38;5;241m.\u001b[39m_get_running_loop() \u001b[38;5;129;01mis\u001b[39;00m \u001b[38;5;129;01mnot\u001b[39;00m \u001b[38;5;28;01mNone\u001b[39;00m:\n",
      "\u001b[0;31mRuntimeError\u001b[0m: This event loop is already running",
      "\nDuring handling of the above exception, another exception occurred:\n",
      "\u001b[0;31mRuntimeError\u001b[0m                              Traceback (most recent call last)",
      "Cell \u001b[0;32mIn[2], line 14\u001b[0m\n\u001b[1;32m     10\u001b[0m     channel \u001b[38;5;241m=\u001b[39m bot\u001b[38;5;241m.\u001b[39mget_channel(\u001b[38;5;241m1084864988688154627\u001b[39m) \n\u001b[1;32m     11\u001b[0m     \u001b[38;5;28;01mawait\u001b[39;00m channel\u001b[38;5;241m.\u001b[39msend(\u001b[38;5;124m\"\u001b[39m\u001b[38;5;124m{\u001b[39m\u001b[38;5;124m'\u001b[39m\u001b[38;5;124munit_number\u001b[39m\u001b[38;5;124m'\u001b[39m\u001b[38;5;124m: 2, \u001b[39m\u001b[38;5;124m'\u001b[39m\u001b[38;5;124munit_price\u001b[39m\u001b[38;5;124m'\u001b[39m\u001b[38;5;124m: 3403, \u001b[39m\u001b[38;5;124m'\u001b[39m\u001b[38;5;124munit_sqft\u001b[39m\u001b[38;5;124m'\u001b[39m\u001b[38;5;124m: 1076, \u001b[39m\u001b[38;5;124m'\u001b[39m\u001b[38;5;124mavailable_date\u001b[39m\u001b[38;5;124m'\u001b[39m\u001b[38;5;124m: \u001b[39m\u001b[38;5;124m'\u001b[39m\u001b[38;5;124m04/06/2024\u001b[39m\u001b[38;5;124m'\u001b[39m\u001b[38;5;124m}\u001b[39m\u001b[38;5;124m\"\u001b[39m)\n\u001b[0;32m---> 14\u001b[0m \u001b[43mbot\u001b[49m\u001b[38;5;241;43m.\u001b[39;49m\u001b[43mrun\u001b[49m\u001b[43m(\u001b[49m\u001b[38;5;124;43m'\u001b[39;49m\u001b[38;5;124;43mMTA4NDMyMDA0ODUzMDg2MjE2MA.G12aBD.LtQdjhTWeDPKyt89MK5VuhIp5b4O7mX4x0uE7M\u001b[39;49m\u001b[38;5;124;43m'\u001b[39;49m\u001b[43m)\u001b[49m\n",
      "File \u001b[0;32m~/opt/anaconda3/envs/scrape/lib/python3.10/site-packages/discord/client.py:713\u001b[0m, in \u001b[0;36mClient.run\u001b[0;34m(self, *args, **kwargs)\u001b[0m\n\u001b[1;32m    711\u001b[0m     future\u001b[38;5;241m.\u001b[39mremove_done_callback(stop_loop_on_completion)\n\u001b[1;32m    712\u001b[0m     _log\u001b[38;5;241m.\u001b[39minfo(\u001b[38;5;124m\"\u001b[39m\u001b[38;5;124mCleaning up tasks.\u001b[39m\u001b[38;5;124m\"\u001b[39m)\n\u001b[0;32m--> 713\u001b[0m     \u001b[43m_cleanup_loop\u001b[49m\u001b[43m(\u001b[49m\u001b[43mloop\u001b[49m\u001b[43m)\u001b[49m\n\u001b[1;32m    715\u001b[0m \u001b[38;5;28;01mif\u001b[39;00m \u001b[38;5;129;01mnot\u001b[39;00m future\u001b[38;5;241m.\u001b[39mcancelled():\n\u001b[1;32m    716\u001b[0m     \u001b[38;5;28;01mtry\u001b[39;00m:\n",
      "File \u001b[0;32m~/opt/anaconda3/envs/scrape/lib/python3.10/site-packages/discord/client.py:113\u001b[0m, in \u001b[0;36m_cleanup_loop\u001b[0;34m(loop)\u001b[0m\n\u001b[1;32m    111\u001b[0m \u001b[38;5;28;01mfinally\u001b[39;00m:\n\u001b[1;32m    112\u001b[0m     _log\u001b[38;5;241m.\u001b[39minfo(\u001b[38;5;124m\"\u001b[39m\u001b[38;5;124mClosing the event loop.\u001b[39m\u001b[38;5;124m\"\u001b[39m)\n\u001b[0;32m--> 113\u001b[0m     \u001b[43mloop\u001b[49m\u001b[38;5;241;43m.\u001b[39;49m\u001b[43mclose\u001b[49m\u001b[43m(\u001b[49m\u001b[43m)\u001b[49m\n",
      "File \u001b[0;32m~/opt/anaconda3/envs/scrape/lib/python3.10/asyncio/unix_events.py:68\u001b[0m, in \u001b[0;36m_UnixSelectorEventLoop.close\u001b[0;34m(self)\u001b[0m\n\u001b[1;32m     67\u001b[0m \u001b[38;5;28;01mdef\u001b[39;00m \u001b[38;5;21mclose\u001b[39m(\u001b[38;5;28mself\u001b[39m):\n\u001b[0;32m---> 68\u001b[0m     \u001b[38;5;28;43msuper\u001b[39;49m\u001b[43m(\u001b[49m\u001b[43m)\u001b[49m\u001b[38;5;241;43m.\u001b[39;49m\u001b[43mclose\u001b[49m\u001b[43m(\u001b[49m\u001b[43m)\u001b[49m\n\u001b[1;32m     69\u001b[0m     \u001b[38;5;28;01mif\u001b[39;00m \u001b[38;5;129;01mnot\u001b[39;00m sys\u001b[38;5;241m.\u001b[39mis_finalizing():\n\u001b[1;32m     70\u001b[0m         \u001b[38;5;28;01mfor\u001b[39;00m sig \u001b[38;5;129;01min\u001b[39;00m \u001b[38;5;28mlist\u001b[39m(\u001b[38;5;28mself\u001b[39m\u001b[38;5;241m.\u001b[39m_signal_handlers):\n",
      "File \u001b[0;32m~/opt/anaconda3/envs/scrape/lib/python3.10/asyncio/selector_events.py:84\u001b[0m, in \u001b[0;36mBaseSelectorEventLoop.close\u001b[0;34m(self)\u001b[0m\n\u001b[1;32m     82\u001b[0m \u001b[38;5;28;01mdef\u001b[39;00m \u001b[38;5;21mclose\u001b[39m(\u001b[38;5;28mself\u001b[39m):\n\u001b[1;32m     83\u001b[0m     \u001b[38;5;28;01mif\u001b[39;00m \u001b[38;5;28mself\u001b[39m\u001b[38;5;241m.\u001b[39mis_running():\n\u001b[0;32m---> 84\u001b[0m         \u001b[38;5;28;01mraise\u001b[39;00m \u001b[38;5;167;01mRuntimeError\u001b[39;00m(\u001b[38;5;124m\"\u001b[39m\u001b[38;5;124mCannot close a running event loop\u001b[39m\u001b[38;5;124m\"\u001b[39m)\n\u001b[1;32m     85\u001b[0m     \u001b[38;5;28;01mif\u001b[39;00m \u001b[38;5;28mself\u001b[39m\u001b[38;5;241m.\u001b[39mis_closed():\n\u001b[1;32m     86\u001b[0m         \u001b[38;5;28;01mreturn\u001b[39;00m\n",
      "\u001b[0;31mRuntimeError\u001b[0m: Cannot close a running event loop"
     ]
    }
   ],
   "source": [
    "# %%writefile discord_bot.py\n",
    "import discord\n",
    "\n",
    "bot = discord.Client()\n",
    "\n",
    "# Event triggered when the bot is ready\n",
    "@bot.event\n",
    "async def on_ready():\n",
    "    print(f'Logged in as {bot.user.name} ({bot.user.id})')\n",
    "    channel = bot.get_channel(1084864988688154627) \n",
    "    await channel.send(\"{'unit_number': 2, 'unit_price': 3403, 'unit_sqft': 1076, 'available_date': '04/06/2024'}\")\n",
    "\n",
    "\n",
    "bot.run(os.getenv('DISCORD_TOKEN'))\n"
   ]
  }
 ],
 "metadata": {
  "kernelspec": {
   "display_name": "Python 3",
   "language": "python",
   "name": "python3"
  },
  "language_info": {
   "codemirror_mode": {
    "name": "ipython",
    "version": 3
   },
   "file_extension": ".py",
   "mimetype": "text/x-python",
   "name": "python",
   "nbconvert_exporter": "python",
   "pygments_lexer": "ipython3",
   "version": "3.10.13"
  }
 },
 "nbformat": 4,
 "nbformat_minor": 2
}
